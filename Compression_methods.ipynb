{
  "nbformat": 4,
  "nbformat_minor": 0,
  "metadata": {
    "colab": {
      "provenance": []
    },
    "kernelspec": {
      "name": "python3",
      "display_name": "Python 3"
    },
    "language_info": {
      "name": "python"
    }
  },
  "cells": [
    {
      "cell_type": "markdown",
      "source": [
        "# Functions"
      ],
      "metadata": {
        "id": "8LpoOqRqSZZB"
      }
    },
    {
      "cell_type": "code",
      "execution_count": 158,
      "metadata": {
        "id": "7pP-90sfRqZv"
      },
      "outputs": [],
      "source": [
        "import codecs\n",
        "import base64\n",
        "import zlib\n",
        "import lzma\n",
        "import bz2\n",
        "import gzip\n",
        "\n",
        "#read the utf-16-le file\n",
        "def open_txt():\n",
        "  with open(\"/content/Quick Mode S23 Test File C.txt\", \"rb\") as f:\n",
        "        text = f.read().decode(\"utf-16-le\", errors=\"strict\")\n",
        "  return text\n",
        "\n",
        "#encoding of the text to utf-16-le for compression\n",
        "def encodes(text):\n",
        "  return text.encode(encoding='utf-16-le', errors='strict')\n",
        "\n",
        "#decode the text back to utf-16\n",
        "def decodes(text):\n",
        "  return text.decode(encoding='utf-16-le', errors='strict')\n",
        "\n",
        "#fragment text in blocks of 32 bytes\n",
        "def frament_the_text(text):\n",
        "  payload = list()\n",
        "  for i in range(0,len(text), 32):\n",
        "    payload.append(text[i:i+32])\n",
        "  return payload"
      ]
    },
    {
      "cell_type": "code",
      "source": [
        "# function to check that original and decompressed string are the same\n",
        "def are_strings_equal_zlib(original, compressed):\n",
        "  decompressed = decodes(zlib.decompress(compressed))\n",
        "  print(\"Original:\")\n",
        "  print(original)\n",
        "  print(\"Decompressed:\")\n",
        "  print(decompressed)\n",
        "  if decompressed == original:\n",
        "    print(\"compression ok\")\n",
        "  else:\n",
        "    print(\"compression wrong\")\n",
        "\n",
        "# function to check that original and decompressed string are the same\n",
        "def are_strings_equal_lzma(original, compressed):\n",
        "  decompressed = decodes(lzma.decompress(compressed))\n",
        "  if decompressed == original:\n",
        "    print(\"compression ok\")\n",
        "  else:\n",
        "    print(\"compression wrong\")\n",
        "\n",
        "# function to check that original and decompressed string are the same\n",
        "def are_strings_equal_bz2(original, compressed):\n",
        "  decompressed = decodes(bz2.decompress(compressed))\n",
        "  if decompressed == original:\n",
        "    print(\"compression ok\")\n",
        "  else:\n",
        "    print(\"compression wrong\")\n",
        "\n",
        "# function to check that original and decompressed string are the same\n",
        "def are_strings_equal_gzip(original, compressed):\n",
        "  decompressed = decodes(gzip.decompress(compressed))\n",
        "  if decompressed == original:\n",
        "    print(\"compression ok\")\n",
        "  else:\n",
        "    print(\"compression wrong\")"
      ],
      "metadata": {
        "id": "okZT95gdVG60"
      },
      "execution_count": 170,
      "outputs": []
    },
    {
      "cell_type": "markdown",
      "source": [
        "# No Compression"
      ],
      "metadata": {
        "id": "Z89_RVzTSdpu"
      }
    },
    {
      "cell_type": "code",
      "source": [
        "#read the file\n",
        "original_text = open_txt()\n",
        "text_to_tx = encodes(original_text)\n",
        "\n",
        "#fragment text in blocks of 32 bytes\n",
        "payload = frament_the_text(text_to_tx)\n",
        "\n",
        "print('length: ' + str(len(text_to_tx)))\n",
        "print('num. packets: ' + str(len(payload)))"
      ],
      "metadata": {
        "colab": {
          "base_uri": "https://localhost:8080/"
        },
        "id": "B_x0wOdESV0X",
        "outputId": "86e659c6-f4a3-41ba-d96e-296a1f6914c3"
      },
      "execution_count": 160,
      "outputs": [
        {
          "output_type": "stream",
          "name": "stdout",
          "text": [
            "length: 652\n",
            "num. packets: 21\n"
          ]
        }
      ]
    },
    {
      "cell_type": "markdown",
      "source": [
        "# Compressions"
      ],
      "metadata": {
        "id": "UbtQCo2NTIt_"
      }
    },
    {
      "cell_type": "code",
      "source": [
        "#read the file\n",
        "original_text = open_txt()\n",
        "text_to_tx = encodes(original_text)\n",
        "\n",
        "# level = 9 -> max compression, but slowest\n",
        "text_compressed = zlib.compress(text_to_tx ,level=9)\n",
        "payload = frament_the_text(text_compressed)\n",
        "\n",
        "print('length: ' + str(len(text_compressed)))\n",
        "print('num. packets: ' + str(len(payload)))\n",
        "\n",
        "are_strings_equal_zlib(original_text, text_compressed)"
      ],
      "metadata": {
        "colab": {
          "base_uri": "https://localhost:8080/"
        },
        "id": "M6auJ80vTIWm",
        "outputId": "809e2609-291c-477a-8da9-0a988e6a1f63"
      },
      "execution_count": 163,
      "outputs": [
        {
          "output_type": "stream",
          "name": "stdout",
          "text": [
            "length: 329\n",
            "num. packets: 11\n",
            "Original:\n",
            "﻿1\tFitxer de prova de la competició Quick Mode MTP-S’23 TEAM C, editat el 13 d’Abril del 2023, a veure si tot va bé i la línia arriba sencera i sense errors incloent caràcters curiosos com æ, ę, î, ô, ü.\n",
            "2\t… i aquesta és la segona línia, a veure que tal va.\n",
            "3\t… i ja no posem més línies perque de fet, amb una n’hi ha prou.\r\n",
            " \n",
            "Decompressed:\n",
            "﻿1\tFitxer de prova de la competició Quick Mode MTP-S’23 TEAM C, editat el 13 d’Abril del 2023, a veure si tot va bé i la línia arriba sencera i sense errors incloent caràcters curiosos com æ, ę, î, ô, ü.\n",
            "2\t… i aquesta és la segona línia, a veure que tal va.\n",
            "3\t… i ja no posem més línies perque de fet, amb una n’hi ha prou.\r\n",
            " \n",
            "compression ok\n"
          ]
        }
      ]
    },
    {
      "cell_type": "code",
      "source": [
        "#read the file\n",
        "original_text = open_txt()\n",
        "text_to_tx = encodes(original_text)\n",
        "\n",
        "# preset = 9 -> max compression, but slowest\n",
        "text_compressed = lzma.compress(text_to_tx, preset=9)\n",
        "\n",
        "payload = frament_the_text(text_compressed)\n",
        "\n",
        "print('length: ' + str(len(text_compressed)))\n",
        "print('num. packets: ' + str(len(payload)))\n",
        "\n",
        "are_strings_equal_lzma(original_text, text_compressed)"
      ],
      "metadata": {
        "colab": {
          "base_uri": "https://localhost:8080/"
        },
        "id": "fibUtfnRWz1E",
        "outputId": "9a67c16a-f05a-4367-fd72-944d398f1d53"
      },
      "execution_count": 166,
      "outputs": [
        {
          "output_type": "stream",
          "name": "stdout",
          "text": [
            "length: 376\n",
            "num. packets: 12\n",
            "compression ok\n"
          ]
        }
      ]
    },
    {
      "cell_type": "code",
      "source": [
        "#read the file\n",
        "original_text = open_txt()\n",
        "text_to_tx = encodes(original_text)\n",
        "\n",
        "# compresslevel=9 -> max compression, but slowest\n",
        "text_compressed = bz2.compress(text_to_tx, compresslevel=9)\n",
        "\n",
        "payload = frament_the_text(text_compressed)\n",
        "\n",
        "print('length: ' + str(len(text_compressed)))\n",
        "print('num. packets: ' + str(len(payload)))\n",
        "\n",
        "are_strings_equal_bz2(original_text, text_compressed)"
      ],
      "metadata": {
        "colab": {
          "base_uri": "https://localhost:8080/"
        },
        "id": "P01CB7JYZFQU",
        "outputId": "af9d951f-5bfa-44ea-fb9e-2978573c30d3"
      },
      "execution_count": 168,
      "outputs": [
        {
          "output_type": "stream",
          "name": "stdout",
          "text": [
            "length: 308\n",
            "num. packets: 10\n",
            "compression ok\n"
          ]
        }
      ]
    },
    {
      "cell_type": "code",
      "source": [
        "#read the file\n",
        "original_text = open_txt()\n",
        "text_to_tx = encodes(original_text)\n",
        "\n",
        "# compresslevel=9 -> max compression, but slowest\n",
        "text_compressed = gzip.compress(text_to_tx, compresslevel=9)\n",
        "\n",
        "payload = frament_the_text(text_compressed)\n",
        "\n",
        "print('length: ' + str(len(text_compressed)))\n",
        "print('num. packets: ' + str(len(payload)))\n",
        "\n",
        "are_strings_equal_gzip(original_text, text_compressed)"
      ],
      "metadata": {
        "colab": {
          "base_uri": "https://localhost:8080/"
        },
        "id": "3C4VPwMgZY1F",
        "outputId": "61d219fa-acd2-42ee-cea0-4db47b8d39b9"
      },
      "execution_count": 169,
      "outputs": [
        {
          "output_type": "stream",
          "name": "stdout",
          "text": [
            "length: 341\n",
            "num. packets: 11\n",
            "compression ok\n"
          ]
        }
      ]
    }
  ]
}